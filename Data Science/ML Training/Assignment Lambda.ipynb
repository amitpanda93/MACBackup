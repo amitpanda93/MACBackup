{
 "cells": [
  {
   "cell_type": "code",
   "execution_count": 1,
   "metadata": {},
   "outputs": [
    {
     "data": {
      "text/plain": [
       "3"
      ]
     },
     "execution_count": 1,
     "metadata": {},
     "output_type": "execute_result"
    }
   ],
   "source": [
    "(lambda x, y: x + y)(1, 2)"
   ]
  },
  {
   "cell_type": "code",
   "execution_count": 2,
   "metadata": {},
   "outputs": [
    {
     "name": "stdout",
     "output_type": "stream",
     "text": [
      "9\n",
      "2\n"
     ]
    }
   ],
   "source": [
    "# Python program showing a use \n",
    "# lambda function \n",
    "\n",
    "# performing a addition of three number \n",
    "x1 = (lambda x, y, z: (x + y) * z)(1, 2, 3) \n",
    "print(x1) \n",
    "\n",
    "# function using a lambda fumction\t \n",
    "x2 = (lambda x, y, z: (x + y) if (z == 0) else (x * y))(1, 2, 3) \n",
    "print(x2)\t \n"
   ]
  },
  {
   "cell_type": "code",
   "execution_count": 3,
   "metadata": {},
   "outputs": [
    {
     "name": "stdout",
     "output_type": "stream",
     "text": [
      "<class 'function'>\n",
      "11\n"
     ]
    }
   ],
   "source": [
    "# Python program showing \n",
    "# variable is storing lambda \n",
    "# expression \n",
    "\n",
    "# assingned to a variable \n",
    "sum = lambda x, y: x + y \n",
    "print(type(sum)) \n",
    "\n",
    "x1 = sum(4, 7) \n",
    "print(x1) \n"
   ]
  },
  {
   "cell_type": "code",
   "execution_count": 4,
   "metadata": {},
   "outputs": [
    {
     "name": "stdout",
     "output_type": "stream",
     "text": [
      "[1, 4, 9, 16, 25, 36, 49, 64, 81, 0]\n",
      "[2, 4, 6, 8, 0]\n"
     ]
    }
   ],
   "source": [
    "# Python program showing a use \n",
    "# of lambda function \n",
    "\n",
    "nums = [1, 2, 3, 4, 5, 6, 7, 8, 9, 0] \n",
    "\n",
    "# using map() function \n",
    "squares = map(lambda x: x * x, nums) \n",
    "print(list(squares)) \n",
    "\n",
    "# using filter() function \n",
    "evens = filter(lambda x: True if (x % 2 == 0) \n",
    "\t\t\t\t\t\t\telse False, nums) \n",
    "print(list(evens)) \n"
   ]
  },
  {
   "cell_type": "code",
   "execution_count": 7,
   "metadata": {},
   "outputs": [
    {
     "data": {
      "text/plain": [
       "'Three'"
      ]
     },
     "execution_count": 7,
     "metadata": {},
     "output_type": "execute_result"
    }
   ],
   "source": [
    "num = (lambda x : \"one\" if x == 1 else (\"two\" if x == 2 else \"Three\"))(3)\n",
    "num"
   ]
  },
  {
   "cell_type": "code",
   "execution_count": 8,
   "metadata": {},
   "outputs": [
    {
     "name": "stdout",
     "output_type": "stream",
     "text": [
      "[{'p': 100, 'r': 0.01, 'n': 2, 't': 4}, {'p': 120, 'r': 0.05, 'n': 5, 't': 2}, {'p': 150, 'r': 0.04, 'n': 1, 't': 5}]\n"
     ]
    }
   ],
   "source": [
    "details = [{'p':100, 'r':0.01, 'n':2, 't':4}, \n",
    "\t\t{'p':150, 'r':0.04, 'n':1, 't':5}, \n",
    "\t\t{'p':120, 'r':0.05, 'n':5, 't':2}] \n",
    "sorted_details = sorted(details, \n",
    "\t\t\t\t\t\tkey=lambda x: x['p']*((1 + x['r']/\n",
    "\t\t\t\t\t\t\t\tx['n'])**(x['n']*x['t']))) \n",
    "print(sorted_details) \n"
   ]
  },
  {
   "cell_type": "code",
   "execution_count": 9,
   "metadata": {},
   "outputs": [
    {
     "name": "stdout",
     "output_type": "stream",
     "text": [
      "[0, 1, 4, 9, 16, 25]\n",
      "[1, 3, 5]\n"
     ]
    }
   ],
   "source": [
    "# map & filter\n",
    "\n",
    "nums = [0, 1, 2, 3, 4, 5] \n",
    "mapped = map(lambda x: x * x, nums) \n",
    "filtered = filter(lambda x: x % 2, nums) \n",
    "print(list(mapped)) \n",
    "print(list(filtered)) \n"
   ]
  },
  {
   "cell_type": "code",
   "execution_count": 10,
   "metadata": {},
   "outputs": [
    {
     "name": "stdout",
     "output_type": "stream",
     "text": [
      "[65, 39, 221]\n"
     ]
    }
   ],
   "source": [
    "# Python Program to find numbers divisible \n",
    "# by thirteen from a list using anonymous \n",
    "# function \n",
    "\n",
    "# Take a list of numbers. \n",
    "my_list = [12, 65, 54, 39, 102, 339, 221, 50, 70, ] \n",
    "\n",
    "# use anonymous function to filter and comparing \n",
    "# if divisible or not \n",
    "result = list(filter(lambda x: (x % 13 == 0), my_list)) \n",
    "\n",
    "# printing the result \n",
    "print(result) \n"
   ]
  },
  {
   "cell_type": "code",
   "execution_count": 16,
   "metadata": {},
   "outputs": [
    {
     "data": {
      "text/plain": [
       "8"
      ]
     },
     "execution_count": 16,
     "metadata": {},
     "output_type": "execute_result"
    }
   ],
   "source": [
    "(lambda a,b : a ** b) (2,3) "
   ]
  },
  {
   "cell_type": "code",
   "execution_count": 18,
   "metadata": {},
   "outputs": [],
   "source": [
    "# Practice Excercises: Functions\n",
    "\n",
    "# 1.       Write a program using functions to check whether two numbers are equal or not\n",
    "# 2.       Write a program to swap two numbers\n",
    "# 3.       Write a program to return the average of its arguments\n",
    "# 4.       Write a program to convert time into minutes\n",
    "# 5.       Write a program to sum the series: 1/1! + 4/2! + 27/3!+…….\n",
    "# 6.       Write  a program that greets a person. [Input: Goransh; Output: Welcome Goransh! Happy learning Python!]\n"
   ]
  },
  {
   "cell_type": "code",
   "execution_count": 20,
   "metadata": {},
   "outputs": [
    {
     "data": {
      "text/plain": [
       "'The numbers are equal'"
      ]
     },
     "execution_count": 20,
     "metadata": {},
     "output_type": "execute_result"
    }
   ],
   "source": [
    "# 1.       Write a program using functions to check whether two numbers are equal or not\n",
    "\n",
    "(lambda a,b : \"The numbers are equal\" if a == b else \"The numbers are not equal\")(5,5)"
   ]
  },
  {
   "cell_type": "code",
   "execution_count": 21,
   "metadata": {},
   "outputs": [],
   "source": [
    "# 2.       Write a program to swap two numbers\n"
   ]
  },
  {
   "cell_type": "code",
   "execution_count": 23,
   "metadata": {},
   "outputs": [
    {
     "name": "stdout",
     "output_type": "stream",
     "text": [
      "3.0\n"
     ]
    }
   ],
   "source": [
    "# 3.       Write a program to return the average of its arguments\n",
    "\n",
    "sum = lambda x,y : x+y\n",
    "avg = lambda x,y : x/y\n",
    "def func_avg(*args):\n",
    "    arg_sum = 0\n",
    "    count = 0\n",
    "    for i in args:\n",
    "        arg_sum = sum(arg_sum,i)\n",
    "        count = sum(count,1)\n",
    "    return(avg(arg_sum,count))\n",
    "\n",
    "print(func_avg(1,2,3,4,5))\n",
    "    "
   ]
  },
  {
   "cell_type": "code",
   "execution_count": 24,
   "metadata": {},
   "outputs": [
    {
     "name": "stdout",
     "output_type": "stream",
     "text": [
      "Enter your name: Amit\n",
      "Welcome Amit! Happy learning Python\n"
     ]
    }
   ],
   "source": [
    "# 6.       Write  a program that greets a person. [Input: Goransh; Output: Welcome Goransh! Happy learning Python!]\n",
    "\n",
    "str = input(\"Enter your name: \")\n",
    "print((lambda x : \"Welcome \"+x+\"! Happy learning Python\")(str))"
   ]
  },
  {
   "cell_type": "code",
   "execution_count": 29,
   "metadata": {},
   "outputs": [
    {
     "name": "stdout",
     "output_type": "stream",
     "text": [
      "Enter the value of n: 3\n",
      "<generator object <genexpr> at 0x10de085e8>\n"
     ]
    }
   ],
   "source": [
    "# 5.       Write a program to sum the series: 1/1! + 4/2! + 27/3!+…….\n",
    "\n",
    "num = input(\"Enter the value of n: \")\n",
    "print((lambda x: x+2 for x in range(1,10)))"
   ]
  },
  {
   "cell_type": "code",
   "execution_count": null,
   "metadata": {},
   "outputs": [],
   "source": []
  }
 ],
 "metadata": {
  "kernelspec": {
   "display_name": "Python 3",
   "language": "python",
   "name": "python3"
  },
  "language_info": {
   "codemirror_mode": {
    "name": "ipython",
    "version": 3
   },
   "file_extension": ".py",
   "mimetype": "text/x-python",
   "name": "python",
   "nbconvert_exporter": "python",
   "pygments_lexer": "ipython3",
   "version": "3.7.1"
  }
 },
 "nbformat": 4,
 "nbformat_minor": 2
}
