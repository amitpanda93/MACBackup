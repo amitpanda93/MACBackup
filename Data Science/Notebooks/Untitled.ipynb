{
 "cells": [
  {
   "cell_type": "code",
   "execution_count": 2,
   "metadata": {},
   "outputs": [
    {
     "name": "stdout",
     "output_type": "stream",
     "text": [
      "Map example\n",
      "[100, 400, 900, 1600, 2500]\n"
     ]
    }
   ],
   "source": [
    "num = [10,20,30,40,50]\n",
    "print(\"Map example\")\n",
    "print(list(map(lambda x: x**2,num)))"
   ]
  },
  {
   "cell_type": "code",
   "execution_count": 3,
   "metadata": {},
   "outputs": [
    {
     "name": "stdout",
     "output_type": "stream",
     "text": [
      "Filter example\n",
      "[10, 20, 30]\n"
     ]
    }
   ],
   "source": [
    "print(\"Filter example\")\n",
    "print(list(filter(lambda x: x<=30, num)))"
   ]
  },
  {
   "cell_type": "code",
   "execution_count": 4,
   "metadata": {},
   "outputs": [
    {
     "name": "stdout",
     "output_type": "stream",
     "text": [
      "Chain example\n",
      "[20, 30]\n"
     ]
    }
   ],
   "source": [
    "print(\"Chain example\")\n",
    "print(list(filter(lambda x : x<=30, map(lambda x : x+10, num))))"
   ]
  },
  {
   "cell_type": "code",
   "execution_count": 5,
   "metadata": {},
   "outputs": [
    {
     "name": "stdout",
     "output_type": "stream",
     "text": [
      "5\n",
      "4\n",
      "3\n",
      "2\n",
      "1\n"
     ]
    }
   ],
   "source": [
    "num = [1,2,3,4,5]\n",
    "for i in reversed(num):\n",
    "    print(i)"
   ]
  },
  {
   "cell_type": "code",
   "execution_count": 6,
   "metadata": {},
   "outputs": [
    {
     "name": "stdout",
     "output_type": "stream",
     "text": [
      "0 1\n",
      "1 2\n",
      "2 3\n",
      "3 4\n",
      "4 5\n"
     ]
    }
   ],
   "source": [
    "for i, index in enumerate(num):\n",
    "    print(i,index)"
   ]
  },
  {
   "cell_type": "code",
   "execution_count": 14,
   "metadata": {},
   "outputs": [
    {
     "name": "stdout",
     "output_type": "stream",
     "text": [
      "amit 10\n",
      "bat 20\n",
      "cricket 30\n",
      "downe 40\n"
     ]
    }
   ],
   "source": [
    "#Looping over two collections\n",
    "\n",
    "name = [\"amit\",\"bat\",\"cricket\",\"downe\"]\n",
    "age = [10,20,30,40,50]\n",
    "\n",
    "for n , a in zip(name,age):\n",
    "    print(n,a)"
   ]
  },
  {
   "cell_type": "code",
   "execution_count": 15,
   "metadata": {},
   "outputs": [
    {
     "name": "stdout",
     "output_type": "stream",
     "text": [
      "['bat', 'amit', 'downe', 'cricket']\n"
     ]
    }
   ],
   "source": [
    "print(sorted(name, key = len))"
   ]
  },
  {
   "cell_type": "code",
   "execution_count": 21,
   "metadata": {},
   "outputs": [
    {
     "name": "stdout",
     "output_type": "stream",
     "text": [
      "a 1\n",
      "b 2\n",
      "c 3\n"
     ]
    }
   ],
   "source": [
    "d = {\"a\":1,\"b\":2,\"c\":3}\n",
    "\n",
    "for a,b in d.items():\n",
    "    print(a,b)"
   ]
  },
  {
   "cell_type": "code",
   "execution_count": 23,
   "metadata": {},
   "outputs": [
    {
     "name": "stdout",
     "output_type": "stream",
     "text": [
      "{'amit': 10, 'bat': 20, 'cricket': 30, 'downe': 40}\n"
     ]
    }
   ],
   "source": [
    "print(dict(zip(name,age)))"
   ]
  },
  {
   "cell_type": "code",
   "execution_count": 24,
   "metadata": {},
   "outputs": [],
   "source": [
    "colors = [\"red\",\"red\",\"white\",\"black\",\"black\",\"black\"]\n",
    "d ={}\n",
    "for color in colors:\n",
    "    d[color] = d.get(color,0)+1"
   ]
  },
  {
   "cell_type": "code",
   "execution_count": 25,
   "metadata": {},
   "outputs": [
    {
     "data": {
      "text/plain": [
       "{'red': 2, 'white': 1, 'black': 3}"
      ]
     },
     "execution_count": 25,
     "metadata": {},
     "output_type": "execute_result"
    }
   ],
   "source": [
    "d"
   ]
  },
  {
   "cell_type": "code",
   "execution_count": 29,
   "metadata": {},
   "outputs": [
    {
     "data": {
      "text/plain": [
       "defaultdict(int, {'red': 2, 'white': 1, 'black': 3})"
      ]
     },
     "execution_count": 29,
     "metadata": {},
     "output_type": "execute_result"
    }
   ],
   "source": [
    "from collections import defaultdict\n",
    "\n",
    "d1 = defaultdict(int)\n",
    "for color in colors:\n",
    "    d1[color]+=1\n",
    "d1"
   ]
  },
  {
   "cell_type": "code",
   "execution_count": 31,
   "metadata": {},
   "outputs": [
    {
     "data": {
      "text/plain": [
       "defaultdict(list, {3: ['red', 'red'], 5: ['white', 'black', 'black', 'black']})"
      ]
     },
     "execution_count": 31,
     "metadata": {},
     "output_type": "execute_result"
    }
   ],
   "source": [
    "d = defaultdict(list)\n",
    "for color in colors:\n",
    "    key = len(color)\n",
    "    d[key].append(color)\n",
    "d"
   ]
  },
  {
   "cell_type": "code",
   "execution_count": 4,
   "metadata": {},
   "outputs": [
    {
     "data": {
      "text/html": [
       "<div>\n",
       "<style scoped>\n",
       "    .dataframe tbody tr th:only-of-type {\n",
       "        vertical-align: middle;\n",
       "    }\n",
       "\n",
       "    .dataframe tbody tr th {\n",
       "        vertical-align: top;\n",
       "    }\n",
       "\n",
       "    .dataframe thead th {\n",
       "        text-align: right;\n",
       "    }\n",
       "</style>\n",
       "<table border=\"1\" class=\"dataframe\">\n",
       "  <thead>\n",
       "    <tr style=\"text-align: right;\">\n",
       "      <th></th>\n",
       "      <th>a</th>\n",
       "      <th>b</th>\n",
       "    </tr>\n",
       "  </thead>\n",
       "  <tbody>\n",
       "    <tr>\n",
       "      <th>0</th>\n",
       "      <td>10</td>\n",
       "      <td>0</td>\n",
       "    </tr>\n",
       "    <tr>\n",
       "      <th>1</th>\n",
       "      <td>14</td>\n",
       "      <td>0</td>\n",
       "    </tr>\n",
       "    <tr>\n",
       "      <th>2</th>\n",
       "      <td>0</td>\n",
       "      <td>0</td>\n",
       "    </tr>\n",
       "    <tr>\n",
       "      <th>3</th>\n",
       "      <td>0</td>\n",
       "      <td>31</td>\n",
       "    </tr>\n",
       "    <tr>\n",
       "      <th>4</th>\n",
       "      <td>61</td>\n",
       "      <td>61</td>\n",
       "    </tr>\n",
       "    <tr>\n",
       "      <th>5</th>\n",
       "      <td>145</td>\n",
       "      <td>51</td>\n",
       "    </tr>\n",
       "    <tr>\n",
       "      <th>6</th>\n",
       "      <td>0</td>\n",
       "      <td>0</td>\n",
       "    </tr>\n",
       "    <tr>\n",
       "      <th>7</th>\n",
       "      <td>51</td>\n",
       "      <td>91</td>\n",
       "    </tr>\n",
       "    <tr>\n",
       "      <th>8</th>\n",
       "      <td>1</td>\n",
       "      <td>0</td>\n",
       "    </tr>\n",
       "    <tr>\n",
       "      <th>9</th>\n",
       "      <td>0</td>\n",
       "      <td>1</td>\n",
       "    </tr>\n",
       "  </tbody>\n",
       "</table>\n",
       "</div>"
      ],
      "text/plain": [
       "     a   b\n",
       "0   10   0\n",
       "1   14   0\n",
       "2    0   0\n",
       "3    0  31\n",
       "4   61  61\n",
       "5  145  51\n",
       "6    0   0\n",
       "7   51  91\n",
       "8    1   0\n",
       "9    0   1"
      ]
     },
     "execution_count": 4,
     "metadata": {},
     "output_type": "execute_result"
    }
   ],
   "source": [
    "from sklearn.preprocessing import MinMaxScaler, StandardScaler\n",
    "import pandas as pd\n",
    "\n",
    "data = pd.DataFrame({\"a\":[1,1,0,0,1,1,0,1,1,0],\"b\":[0,0,0,1,1,1,0,1,0,1]})\n",
    "data = pd.DataFrame({\"a\":[10,14,0,0,61,145,0,51,1,0],\"b\":[0,0,0,31,61,51,0,91,0,1]})\n",
    "data"
   ]
  },
  {
   "cell_type": "code",
   "execution_count": 5,
   "metadata": {},
   "outputs": [
    {
     "name": "stdout",
     "output_type": "stream",
     "text": [
      "          a         b\n",
      "0 -0.410139 -0.741561\n",
      "1 -0.319998 -0.741561\n",
      "2 -0.635490 -0.741561\n",
      "3 -0.635490  0.236668\n",
      "4  0.739151  1.183342\n",
      "5  2.632100  0.867784\n",
      "6 -0.635490 -0.741561\n",
      "7  0.513800  2.130016\n",
      "8 -0.612955 -0.741561\n",
      "9 -0.635490 -0.710005\n",
      "          a         b\n",
      "0  0.068966  0.000000\n",
      "1  0.096552  0.000000\n",
      "2  0.000000  0.000000\n",
      "3  0.000000  0.340659\n",
      "4  0.420690  0.670330\n",
      "5  1.000000  0.560440\n",
      "6  0.000000  0.000000\n",
      "7  0.351724  1.000000\n",
      "8  0.006897  0.000000\n",
      "9  0.000000  0.010989\n"
     ]
    },
    {
     "name": "stderr",
     "output_type": "stream",
     "text": [
      "/Users/amit.panda03/anaconda3/lib/python3.7/site-packages/sklearn/preprocessing/data.py:625: DataConversionWarning: Data with input dtype int64 were all converted to float64 by StandardScaler.\n",
      "  return self.partial_fit(X, y)\n",
      "/Users/amit.panda03/anaconda3/lib/python3.7/site-packages/sklearn/base.py:462: DataConversionWarning: Data with input dtype int64 were all converted to float64 by StandardScaler.\n",
      "  return self.fit(X, **fit_params).transform(X)\n",
      "/Users/amit.panda03/anaconda3/lib/python3.7/site-packages/sklearn/preprocessing/data.py:323: DataConversionWarning: Data with input dtype int64 were all converted to float64 by MinMaxScaler.\n",
      "  return self.partial_fit(X, y)\n"
     ]
    }
   ],
   "source": [
    "data_s_sc = pd.DataFrame(StandardScaler().fit_transform(data), columns= data.columns)\n",
    "data_m_sc = pd.DataFrame(MinMaxScaler().fit_transform(data), columns= data.columns)\n",
    "\n",
    "print(data_s_sc)\n",
    "print(data_m_sc)"
   ]
  },
  {
   "cell_type": "code",
   "execution_count": null,
   "metadata": {},
   "outputs": [],
   "source": []
  }
 ],
 "metadata": {
  "kernelspec": {
   "display_name": "Python 3",
   "language": "python",
   "name": "python3"
  },
  "language_info": {
   "codemirror_mode": {
    "name": "ipython",
    "version": 3
   },
   "file_extension": ".py",
   "mimetype": "text/x-python",
   "name": "python",
   "nbconvert_exporter": "python",
   "pygments_lexer": "ipython3",
   "version": "3.7.1"
  }
 },
 "nbformat": 4,
 "nbformat_minor": 2
}
