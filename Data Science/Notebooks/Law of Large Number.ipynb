{
 "cells": [
  {
   "cell_type": "code",
   "execution_count": 6,
   "metadata": {},
   "outputs": [
    {
     "name": "stdout",
     "output_type": "stream",
     "text": [
      "1.0\n"
     ]
    }
   ],
   "source": [
    "import numpy\n",
    "from numpy.random import randn\n",
    "n = 5\n",
    "count = 0\n",
    "m = range(n)\n",
    "for i in m:\n",
    "    x = randn()\n",
    "    if x>= -1 and x<=1:\n",
    "        count = count+1\n",
    "prob = count/n\n",
    "print(prob)\n",
    "    "
   ]
  },
  {
   "cell_type": "code",
   "execution_count": 5,
   "metadata": {},
   "outputs": [
    {
     "name": "stdout",
     "output_type": "stream",
     "text": [
      "0.5853796675912782\n",
      "-0.8826221761660903\n",
      "0.8656466550036147\n",
      "1.447356547200542\n",
      "-0.127583679638165\n",
      "-1.451171591052399\n",
      "-1.043228367275623\n",
      "-0.08285331364510987\n",
      "-1.0394397629983978\n",
      "-0.6897910435652806\n",
      "0.6\n"
     ]
    }
   ],
   "source": [
    "import numpy\n",
    "from numpy.random import randn\n",
    "n = 10\n",
    "count = 0\n",
    "m = range(n)\n",
    "for i in m:\n",
    "    x = randn()\n",
    "    if x>= -1 and x<=1:\n",
    "        count = count+1\n",
    "prob = count/n\n",
    "print(prob)"
   ]
  },
  {
   "cell_type": "code",
   "execution_count": 7,
   "metadata": {},
   "outputs": [
    {
     "name": "stdout",
     "output_type": "stream",
     "text": [
      "0.8\n"
     ]
    }
   ],
   "source": [
    "import numpy\n",
    "from numpy.random import randn\n",
    "n = 20\n",
    "count = 0\n",
    "m = range(n)\n",
    "for i in m:\n",
    "    x = randn()\n",
    "    if x>= -1 and x<=1:\n",
    "        count = count+1\n",
    "prob = count/n\n",
    "print(prob)"
   ]
  },
  {
   "cell_type": "code",
   "execution_count": 9,
   "metadata": {},
   "outputs": [
    {
     "name": "stdout",
     "output_type": "stream",
     "text": [
      "0.62\n"
     ]
    }
   ],
   "source": [
    "import numpy\n",
    "from numpy.random import randn\n",
    "n = 100\n",
    "count = 0\n",
    "m = range(n)\n",
    "for i in m:\n",
    "    x = randn()\n",
    "    if x>= -1 and x<=1:\n",
    "        count = count+1\n",
    "prob = count/n\n",
    "print(prob)"
   ]
  },
  {
   "cell_type": "code",
   "execution_count": 10,
   "metadata": {},
   "outputs": [
    {
     "name": "stdout",
     "output_type": "stream",
     "text": [
      "0.693\n"
     ]
    }
   ],
   "source": [
    "import numpy\n",
    "from numpy.random import randn\n",
    "n = 1000\n",
    "count = 0\n",
    "m = range(n)\n",
    "for i in m:\n",
    "    x = randn()\n",
    "    if x>= -1 and x<=1:\n",
    "        count = count+1\n",
    "prob = count/n\n",
    "print(prob)"
   ]
  },
  {
   "cell_type": "code",
   "execution_count": 11,
   "metadata": {},
   "outputs": [
    {
     "name": "stdout",
     "output_type": "stream",
     "text": [
      "0.6807\n"
     ]
    }
   ],
   "source": [
    "import numpy\n",
    "from numpy.random import randn\n",
    "n = 10000\n",
    "count = 0\n",
    "m = range(n)\n",
    "for i in m:\n",
    "    x = randn()\n",
    "    if x>= -1 and x<=1:\n",
    "        count = count+1\n",
    "prob = count/n\n",
    "print(prob)"
   ]
  },
  {
   "cell_type": "code",
   "execution_count": null,
   "metadata": {},
   "outputs": [],
   "source": [
    "import numpy\n",
    "from numpy.random import randn\n",
    "n = 100000\n",
    "count = 0\n",
    "m = range(n)\n",
    "for i in m:\n",
    "    x = randn()\n",
    "    if x>= -1 and x<=1:\n",
    "        count = count+1\n",
    "prob = count/n\n",
    "print(prob)"
   ]
  },
  {
   "cell_type": "code",
   "execution_count": null,
   "metadata": {},
   "outputs": [],
   "source": []
  }
 ],
 "metadata": {
  "kernelspec": {
   "display_name": "Python 3",
   "language": "python",
   "name": "python3"
  },
  "language_info": {
   "codemirror_mode": {
    "name": "ipython",
    "version": 3
   },
   "file_extension": ".py",
   "mimetype": "text/x-python",
   "name": "python",
   "nbconvert_exporter": "python",
   "pygments_lexer": "ipython3",
   "version": "3.7.1"
  }
 },
 "nbformat": 4,
 "nbformat_minor": 2
}
