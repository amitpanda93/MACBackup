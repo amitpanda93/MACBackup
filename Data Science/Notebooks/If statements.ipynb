{
 "cells": [
  {
   "cell_type": "code",
   "execution_count": 1,
   "metadata": {},
   "outputs": [
    {
     "data": {
      "text/plain": [
       "-0.3565042779235107"
      ]
     },
     "execution_count": 1,
     "metadata": {},
     "output_type": "execute_result"
    }
   ],
   "source": [
    "import numpy as np\n",
    "from numpy.random import randn\n",
    "randn()"
   ]
  },
  {
   "cell_type": "code",
   "execution_count": 33,
   "metadata": {},
   "outputs": [
    {
     "data": {
      "text/plain": [
       "-0.642130295823054"
      ]
     },
     "execution_count": 33,
     "metadata": {},
     "output_type": "execute_result"
    }
   ],
   "source": [
    "randn()"
   ]
  },
  {
   "cell_type": "code",
   "execution_count": 36,
   "metadata": {},
   "outputs": [
    {
     "name": "stdout",
     "output_type": "stream",
     "text": [
      "0.9453088067868145\n",
      "The number is greater than 0 and less than 1\n",
      "0.022009718642439488\n",
      "The number is greater than 0 and less than 1\n",
      "-0.4967099694091072\n",
      "The number is negative\n",
      "0.41122017841020997\n",
      "The number is greater than 0 and less than 1\n",
      "-1.2495405932247536\n",
      "The number is negative\n",
      "0.21953614340198624\n",
      "The number is greater than 0 and less than 1\n",
      "-1.1413353944227365\n",
      "The number is negative\n",
      "-0.4727577087809822\n",
      "The number is negative\n",
      "0.6258926058623095\n",
      "The number is greater than 0 and less than 1\n",
      "0.9868116736508554\n",
      "The number is greater than 0 and less than 1\n"
     ]
    }
   ],
   "source": [
    "for j in range(10):\n",
    "    x =randn()\n",
    "    print(x)\n",
    "    if x>1:\n",
    "        print (\"The number is greater than 1\")\n",
    "    elif x>0 and x<1:\n",
    "        print (\"The number is greater than 0 and less than 1\")\n",
    "    else:\n",
    "        print(\"The number is negative\")\n",
    "\n"
   ]
  }
 ],
 "metadata": {
  "kernelspec": {
   "display_name": "Python 3",
   "language": "python",
   "name": "python3"
  },
  "language_info": {
   "codemirror_mode": {
    "name": "ipython",
    "version": 3
   },
   "file_extension": ".py",
   "mimetype": "text/x-python",
   "name": "python",
   "nbconvert_exporter": "python",
   "pygments_lexer": "ipython3",
   "version": "3.7.1"
  }
 },
 "nbformat": 4,
 "nbformat_minor": 2
}
