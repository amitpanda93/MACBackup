{
 "cells": [
  {
   "cell_type": "code",
   "execution_count": 2,
   "metadata": {},
   "outputs": [
    {
     "name": "stdout",
     "output_type": "stream",
     "text": [
      "[2 3 4 5 6 7 8 9]\n"
     ]
    }
   ],
   "source": [
    "import numpy as np\n",
    "print(np.arange(2,10))"
   ]
  },
  {
   "cell_type": "code",
   "execution_count": 13,
   "metadata": {},
   "outputs": [
    {
     "name": "stdout",
     "output_type": "stream",
     "text": [
      "[1.  2.  3.3]\n"
     ]
    }
   ],
   "source": [
    "arr = np.array([1,2,3.3])\n",
    "type(arr)\n",
    "print(arr)"
   ]
  },
  {
   "cell_type": "code",
   "execution_count": 14,
   "metadata": {},
   "outputs": [],
   "source": [
    "# >>> a = np.array(1,2,3,4)    # WRONG\n",
    "# >>> a = np.array([1,2,3,4])  # RIGHT"
   ]
  },
  {
   "cell_type": "code",
   "execution_count": 15,
   "metadata": {},
   "outputs": [
    {
     "name": "stdout",
     "output_type": "stream",
     "text": [
      "[[1 2 3]\n",
      " [4 5 6]\n",
      " [7 8 9]]\n"
     ]
    }
   ],
   "source": [
    "# array transforms sequences of sequences into two-dimensional arrays, \n",
    "# sequences of sequences of sequences into three-dimensional arrays, and so on.\n",
    "b = np.array([(1,2,3),(4,5,6),(7,8,9)])\n",
    "print(b)"
   ]
  },
  {
   "cell_type": "code",
   "execution_count": 17,
   "metadata": {},
   "outputs": [
    {
     "name": "stdout",
     "output_type": "stream",
     "text": [
      "[1 2 3 4 5 6 7 8 9]\n"
     ]
    }
   ],
   "source": [
    "b = np.array([1,2,3,4,5,6,7,8,9])\n",
    "print(b)"
   ]
  },
  {
   "cell_type": "code",
   "execution_count": 19,
   "metadata": {},
   "outputs": [
    {
     "name": "stdout",
     "output_type": "stream",
     "text": [
      "[[1. 2. 3.]\n",
      " [4. 5. 6.]]\n",
      "[[1.+0.j 2.+0.j 3.+0.j]\n",
      " [4.+0.j 5.+0.j 6.+0.j]]\n"
     ]
    }
   ],
   "source": [
    "c = np.array([[1,2,3],[4,5,6]],dtype = \"float\")\n",
    "print(c)\n",
    "c = np.array([[1,2,3],[4,5,6]],dtype = \"complex\")\n",
    "print(c)"
   ]
  },
  {
   "cell_type": "code",
   "execution_count": 26,
   "metadata": {},
   "outputs": [
    {
     "name": "stdout",
     "output_type": "stream",
     "text": [
      "[[1. 1. 1.]\n",
      " [1. 1. 1.]\n",
      " [1. 1. 1.]]\n"
     ]
    }
   ],
   "source": [
    "d = np.ones((3,3))\n",
    "print(d)"
   ]
  },
  {
   "cell_type": "code",
   "execution_count": 28,
   "metadata": {},
   "outputs": [
    {
     "data": {
      "text/plain": [
       "array([1, 1, 1, 1, 1, 1, 1, 1, 1])"
      ]
     },
     "execution_count": 28,
     "metadata": {},
     "output_type": "execute_result"
    }
   ],
   "source": [
    "#returns a one array same as the given array\n",
    "e = np.ones_like(b)\n",
    "e"
   ]
  },
  {
   "cell_type": "code",
   "execution_count": 31,
   "metadata": {},
   "outputs": [
    {
     "data": {
      "text/plain": [
       "array([10, 14, 18, 22, 26, 30, 34, 38, 42, 46, 50, 54, 58, 62, 66, 70, 74,\n",
       "       78, 82, 86, 90, 94, 98])"
      ]
     },
     "execution_count": 31,
     "metadata": {},
     "output_type": "execute_result"
    }
   ],
   "source": [
    "f = np.arange(10,99,4)\n",
    "f"
   ]
  },
  {
   "cell_type": "code",
   "execution_count": 34,
   "metadata": {},
   "outputs": [
    {
     "data": {
      "text/plain": [
       "array([-0.7568025 ,  0.59207351, -0.39755568,  0.18303573,  0.04069326,\n",
       "       -0.26237485])"
      ]
     },
     "execution_count": 34,
     "metadata": {},
     "output_type": "execute_result"
    }
   ],
   "source": [
    "g = np.linspace(4,50,6)\n",
    "g\n",
    "h = np.sin(g)\n",
    "h"
   ]
  },
  {
   "cell_type": "code",
   "execution_count": 36,
   "metadata": {},
   "outputs": [
    {
     "data": {
      "text/plain": [
       "array([[ 0.42637278,  0.84124177,  0.37954623],\n",
       "       [-0.7322222 ,  1.49842884, -0.2991258 ]])"
      ]
     },
     "execution_count": 36,
     "metadata": {},
     "output_type": "execute_result"
    }
   ],
   "source": [
    "#numpy.random.rand\n",
    "#Create an array of the given shape and populate it with random samples from a uniform distribution over [0, 1).\n",
    "i = np.random.randn(2,3)\n",
    "i"
   ]
  },
  {
   "cell_type": "code",
   "execution_count": 37,
   "metadata": {},
   "outputs": [
    {
     "name": "stdout",
     "output_type": "stream",
     "text": [
      "[[0 1 2]\n",
      " [1 2 3]\n",
      " [2 3 4]]\n"
     ]
    }
   ],
   "source": [
    "print(np.fromfunction(lambda i, j: i + j, (3, 3), dtype=int))"
   ]
  },
  {
   "cell_type": "code",
   "execution_count": 3,
   "metadata": {},
   "outputs": [
    {
     "data": {
      "text/plain": [
       "array([[5, 4],\n",
       "       [3, 4]])"
      ]
     },
     "execution_count": 3,
     "metadata": {},
     "output_type": "execute_result"
    }
   ],
   "source": [
    "a = np.array( [20,30,40,50] )\n",
    "b = np.arange( 4 )\n",
    "b\n",
    "\n",
    "c = a-b\n",
    "c\n",
    "\n",
    "b**2\n",
    "\n",
    "10*np.sin(a)\n",
    "\n",
    "a<35\n",
    "\n",
    "A = np.array( [[1,1],\n",
    "            [0,1]] )\n",
    "B = np.array( [[2,0],\n",
    "            [3,4]] )\n",
    "A * B                       # elementwise product\n",
    "\n",
    "\n",
    "A @ B                       # matrix product\n",
    "\n",
    "\n",
    "A.dot(B)                    # another matrix product\n",
    "\n"
   ]
  },
  {
   "cell_type": "code",
   "execution_count": 4,
   "metadata": {},
   "outputs": [
    {
     "data": {
      "text/plain": [
       "array([0, 1, 4, 9])"
      ]
     },
     "execution_count": 4,
     "metadata": {},
     "output_type": "execute_result"
    }
   ],
   "source": [
    "b**2"
   ]
  },
  {
   "cell_type": "code",
   "execution_count": 5,
   "metadata": {},
   "outputs": [
    {
     "data": {
      "text/plain": [
       "array([ True,  True, False, False])"
      ]
     },
     "execution_count": 5,
     "metadata": {},
     "output_type": "execute_result"
    }
   ],
   "source": [
    "a<35"
   ]
  },
  {
   "cell_type": "code",
   "execution_count": 6,
   "metadata": {},
   "outputs": [
    {
     "data": {
      "text/plain": [
       "array([[2, 0],\n",
       "       [0, 4]])"
      ]
     },
     "execution_count": 6,
     "metadata": {},
     "output_type": "execute_result"
    }
   ],
   "source": [
    "A * B "
   ]
  },
  {
   "cell_type": "code",
   "execution_count": 10,
   "metadata": {},
   "outputs": [
    {
     "ename": "TypeError",
     "evalue": "Cannot cast ufunc add output from dtype('float64') to dtype('int64') with casting rule 'same_kind'",
     "output_type": "error",
     "traceback": [
      "\u001b[0;31m---------------------------------------------------------------------------\u001b[0m",
      "\u001b[0;31mTypeError\u001b[0m                                 Traceback (most recent call last)",
      "\u001b[0;32m<ipython-input-10-c6bfaa8014d0>\u001b[0m in \u001b[0;36m<module>\u001b[0;34m\u001b[0m\n\u001b[1;32m      9\u001b[0m \u001b[0;34m\u001b[0m\u001b[0m\n\u001b[1;32m     10\u001b[0m \u001b[0;34m\u001b[0m\u001b[0m\n\u001b[0;32m---> 11\u001b[0;31m \u001b[0ma\u001b[0m \u001b[0;34m+=\u001b[0m \u001b[0mb\u001b[0m                  \u001b[0;31m# b is not automatically converted to integer type\u001b[0m\u001b[0;34m\u001b[0m\u001b[0;34m\u001b[0m\u001b[0m\n\u001b[0m",
      "\u001b[0;31mTypeError\u001b[0m: Cannot cast ufunc add output from dtype('float64') to dtype('int64') with casting rule 'same_kind'"
     ]
    }
   ],
   "source": [
    "a = np.ones((2,3), dtype=int)\n",
    "b = np.random.random((2,3))\n",
    "a *= 3\n",
    "a\n",
    "\n",
    "\n",
    "b += a\n",
    "b\n",
    "\n",
    "\n",
    "a += b                  # b is not automatically converted to integer type\n"
   ]
  },
  {
   "cell_type": "code",
   "execution_count": 16,
   "metadata": {},
   "outputs": [
    {
     "data": {
      "text/plain": [
       "'complex128'"
      ]
     },
     "execution_count": 16,
     "metadata": {},
     "output_type": "execute_result"
    }
   ],
   "source": [
    "a = np.ones(3, dtype=np.int32)\n",
    "b = np.linspace(0,3.14,3)\n",
    "b.dtype.name\n",
    "\n",
    "c = a+b\n",
    "c\n",
    "\n",
    "c.dtype.name\n",
    "\n",
    "d = np.exp(c*1j)\n",
    "d\n",
    "\n",
    "\n",
    "d.dtype.name\n"
   ]
  },
  {
   "cell_type": "code",
   "execution_count": 20,
   "metadata": {},
   "outputs": [
    {
     "data": {
      "text/plain": [
       "0.9388468711834068"
      ]
     },
     "execution_count": 20,
     "metadata": {},
     "output_type": "execute_result"
    }
   ],
   "source": [
    "a = np.random.random((2,3))\n",
    "a\n",
    "\n",
    "a.sum()\n",
    "a.min()\n",
    "a.max()\n"
   ]
  },
  {
   "cell_type": "code",
   "execution_count": 27,
   "metadata": {},
   "outputs": [
    {
     "name": "stdout",
     "output_type": "stream",
     "text": [
      "[[ 0  1  2  3]\n",
      " [ 4  5  6  7]\n",
      " [ 8  9 10 11]]\n",
      "[12 15 18 21]\n"
     ]
    },
    {
     "data": {
      "text/plain": [
       "array([0, 1, 2, 3])"
      ]
     },
     "execution_count": 27,
     "metadata": {},
     "output_type": "execute_result"
    }
   ],
   "source": [
    "b = np.arange(12).reshape(3,4)\n",
    "print(b)\n",
    "print(b.sum(axis=0))                          # sum of each column\n",
    "b.min(axis=0)                            # min of each row\n",
    "b.cumsum(axis=1)                         # cumulative sum along each row"
   ]
  },
  {
   "cell_type": "code",
   "execution_count": 29,
   "metadata": {},
   "outputs": [
    {
     "name": "stdout",
     "output_type": "stream",
     "text": [
      "[4. 5. 6.]\n",
      "[2. 5. 8.]\n"
     ]
    }
   ],
   "source": [
    "# numpy.apply_along_axis\n",
    "# numpy.apply_along_axis(func1d, axis, arr, *args, **kwargs)[source]\n",
    "# Apply a function to 1-D slices along the given axis.\n",
    "\n",
    "def my_func(a):\n",
    "    \"\"\"Average first and last element of a 1-D array\"\"\"\n",
    "    return (a[0] + a[-1]) * 0.5\n",
    "b = np.array([[1,2,3], [4,5,6], [7,8,9]])\n",
    "print(np.apply_along_axis(my_func, 0, b))\n",
    "\n",
    "print(np.apply_along_axis(my_func, 1, b))"
   ]
  },
  {
   "cell_type": "code",
   "execution_count": 30,
   "metadata": {},
   "outputs": [
    {
     "data": {
      "text/plain": [
       "array([[1, 7, 8],\n",
       "       [3, 4, 9],\n",
       "       [2, 5, 6]])"
      ]
     },
     "execution_count": 30,
     "metadata": {},
     "output_type": "execute_result"
    }
   ],
   "source": [
    "b = np.array([[8,1,7], [4,3,9], [5,2,6]])\n",
    "np.apply_along_axis(sorted, 1, b)"
   ]
  },
  {
   "cell_type": "code",
   "execution_count": 31,
   "metadata": {},
   "outputs": [
    {
     "data": {
      "text/plain": [
       "array([[[1, 0, 0],\n",
       "        [0, 2, 0],\n",
       "        [0, 0, 3]],\n",
       "\n",
       "       [[4, 0, 0],\n",
       "        [0, 5, 0],\n",
       "        [0, 0, 6]],\n",
       "\n",
       "       [[7, 0, 0],\n",
       "        [0, 8, 0],\n",
       "        [0, 0, 9]]])"
      ]
     },
     "execution_count": 31,
     "metadata": {},
     "output_type": "execute_result"
    }
   ],
   "source": [
    "b = np.array([[1,2,3], [4,5,6], [7,8,9]])\n",
    "np.apply_along_axis(np.diag, -1, b)"
   ]
  },
  {
   "cell_type": "code",
   "execution_count": 32,
   "metadata": {},
   "outputs": [
    {
     "data": {
      "text/plain": [
       "array([[[ 60],\n",
       "        [ 92],\n",
       "        [124]]])"
      ]
     },
     "execution_count": 32,
     "metadata": {},
     "output_type": "execute_result"
    }
   ],
   "source": [
    "# numpy.apply_over_axes\n",
    "# numpy.apply_over_axes(func, a, axes)[source]\n",
    "# Apply a function repeatedly over multiple axes.\n",
    "\n",
    "a = np.arange(24).reshape(2,3,4)\n",
    "a\n",
    "np.apply_over_axes(np.sum, a, [0,2])\n"
   ]
  },
  {
   "cell_type": "code",
   "execution_count": 33,
   "metadata": {},
   "outputs": [
    {
     "data": {
      "text/plain": [
       "array([1, 2, 0])"
      ]
     },
     "execution_count": 33,
     "metadata": {},
     "output_type": "execute_result"
    }
   ],
   "source": [
    "x = np.array([3, 1, 2])\n",
    "np.argsort(x)"
   ]
  },
  {
   "cell_type": "code",
   "execution_count": 34,
   "metadata": {},
   "outputs": [
    {
     "data": {
      "text/plain": [
       "4.0"
      ]
     },
     "execution_count": 34,
     "metadata": {},
     "output_type": "execute_result"
    }
   ],
   "source": [
    "data = list(range(1,5))\n",
    "data\n",
    "[1, 2, 3, 4]\n",
    "np.average(data)\n",
    "2.5\n",
    "np.average(range(1,11), weights=range(10,0,-1))\n",
    "4.0"
   ]
  },
  {
   "cell_type": "code",
   "execution_count": 37,
   "metadata": {},
   "outputs": [
    {
     "data": {
      "text/plain": [
       "array([1, 3, 1, 1, 0, 0, 0, 1])"
      ]
     },
     "execution_count": 37,
     "metadata": {},
     "output_type": "execute_result"
    }
   ],
   "source": [
    "np.bincount(np.arange(5))\n",
    "\n",
    "np.bincount(np.array([0, 1, 1, 3, 2, 1, 7]))"
   ]
  },
  {
   "cell_type": "code",
   "execution_count": 38,
   "metadata": {},
   "outputs": [
    {
     "name": "stdout",
     "output_type": "stream",
     "text": [
      "nan\n",
      "1.0\n",
      "nan\n",
      "3.0\n",
      "nan\n",
      "4.999999999999999\n",
      "5.999999999999999\n",
      "6.999999999999999\n",
      "7.999999999999999\n",
      "8.999999999999998\n"
     ]
    },
    {
     "name": "stderr",
     "output_type": "stream",
     "text": [
      "/Users/amit.panda03/anaconda3/lib/python3.7/site-packages/ipykernel_launcher.py:14: RuntimeWarning: invalid value encountered in power\n",
      "  \n"
     ]
    }
   ],
   "source": [
    "a = np.arange(10)**3\n",
    "a\n",
    "\n",
    "a[2]\n",
    "\n",
    "a[2:5]\n",
    "\n",
    "a[:6:2] = -1000    # equivalent to a[0:6:2] = -1000; from start to position 6, exclusive, set every 2nd element to -1000\n",
    "a\n",
    "\n",
    "a[ : :-1]                                 # reversed a\n",
    "\n",
    "for i in a:\n",
    "    print(i**(1/3.))\n"
   ]
  },
  {
   "cell_type": "code",
   "execution_count": 39,
   "metadata": {},
   "outputs": [
    {
     "data": {
      "text/plain": [
       "array([[10, 11, 12, 13],\n",
       "       [20, 21, 22, 23]])"
      ]
     },
     "execution_count": 39,
     "metadata": {},
     "output_type": "execute_result"
    }
   ],
   "source": [
    "def f(x,y):\n",
    "    return 10*x+y\n",
    "\n",
    "b = np.fromfunction(f,(5,4),dtype=int)\n",
    "b\n",
    "\n",
    "\n",
    "\n",
    "\n",
    "\n",
    "b[2,3]\n",
    "\n",
    "b[0:5, 1]                       # each row in the second column of b\n",
    "\n",
    "b[ : ,1]                        # equivalent to the previous example\n",
    "\n",
    "b[1:3, : ]                      # each column in the second and third row of b"
   ]
  },
  {
   "cell_type": "code",
   "execution_count": 40,
   "metadata": {},
   "outputs": [
    {
     "data": {
      "text/plain": [
       "array([40, 41, 42, 43])"
      ]
     },
     "execution_count": 40,
     "metadata": {},
     "output_type": "execute_result"
    }
   ],
   "source": [
    "b[-1]                                  # the last row. Equivalent to b[-1,:]"
   ]
  },
  {
   "cell_type": "code",
   "execution_count": 41,
   "metadata": {},
   "outputs": [
    {
     "data": {
      "text/plain": [
       "array([[  2,  13],\n",
       "       [102, 113]])"
      ]
     },
     "execution_count": 41,
     "metadata": {},
     "output_type": "execute_result"
    }
   ],
   "source": [
    "c = np.array( [[[  0,  1,  2],               # a 3D array (two stacked 2D arrays)\n",
    "                [ 10, 12, 13]],\n",
    "               [[100,101,102],\n",
    "                [110,112,113]]])\n",
    "c.shape\n",
    "\n",
    "c[1,...]                                   # same as c[1,:,:] or c[1]\n",
    "\n",
    "\n",
    "c[...,2]                                   # same as c[:,:,2]\n"
   ]
  },
  {
   "cell_type": "code",
   "execution_count": 42,
   "metadata": {},
   "outputs": [
    {
     "name": "stdout",
     "output_type": "stream",
     "text": [
      "[0 1 2 3]\n",
      "[10 11 12 13]\n",
      "[20 21 22 23]\n",
      "[30 31 32 33]\n",
      "[40 41 42 43]\n"
     ]
    }
   ],
   "source": [
    "for row in b:\n",
    "    print(row)\n"
   ]
  },
  {
   "cell_type": "code",
   "execution_count": 43,
   "metadata": {},
   "outputs": [
    {
     "name": "stdout",
     "output_type": "stream",
     "text": [
      "0\n",
      "1\n",
      "2\n",
      "3\n",
      "10\n",
      "11\n",
      "12\n",
      "13\n",
      "20\n",
      "21\n",
      "22\n",
      "23\n",
      "30\n",
      "31\n",
      "32\n",
      "33\n",
      "40\n",
      "41\n",
      "42\n",
      "43\n"
     ]
    }
   ],
   "source": [
    "for element in b.flat:\n",
    "    print(element)"
   ]
  },
  {
   "cell_type": "code",
   "execution_count": 44,
   "metadata": {},
   "outputs": [
    {
     "name": "stdout",
     "output_type": "stream",
     "text": [
      "[[5. 0. 3. 5.]\n",
      " [5. 8. 8. 8.]\n",
      " [3. 8. 6. 6.]]\n"
     ]
    },
    {
     "data": {
      "text/plain": [
       "(3, 4)"
      ]
     },
     "execution_count": 44,
     "metadata": {},
     "output_type": "execute_result"
    }
   ],
   "source": [
    "#Shape Manipulation\n",
    "\n",
    "a = np.floor(10*np.random.random((3,4)))\n",
    "print(a)\n",
    "a.shape"
   ]
  },
  {
   "cell_type": "code",
   "execution_count": 46,
   "metadata": {},
   "outputs": [
    {
     "name": "stdout",
     "output_type": "stream",
     "text": [
      "[5. 0. 3. 5. 5. 8. 8. 8. 3. 8. 6. 6.]\n",
      "[[5. 0.]\n",
      " [3. 5.]\n",
      " [5. 8.]\n",
      " [8. 8.]\n",
      " [3. 8.]\n",
      " [6. 6.]]\n",
      "[[5. 5. 3.]\n",
      " [0. 8. 8.]\n",
      " [3. 8. 6.]\n",
      " [5. 8. 6.]]\n",
      "(4, 3)\n",
      "(3, 4)\n"
     ]
    }
   ],
   "source": [
    "print(a.ravel())  # returns the array, flattened\n",
    "print(a.reshape(6,2))  # returns the array with a modified shape\n",
    "print(a.T)  # returns the array, transposed\n",
    "print(a.T.shape)\n",
    "print(a.shape)"
   ]
  },
  {
   "cell_type": "code",
   "execution_count": 47,
   "metadata": {},
   "outputs": [
    {
     "name": "stdout",
     "output_type": "stream",
     "text": [
      "[[5. 0. 3. 5.]\n",
      " [5. 8. 8. 8.]\n",
      " [3. 8. 6. 6.]]\n",
      "None\n"
     ]
    },
    {
     "data": {
      "text/plain": [
       "array([[5., 0., 3., 5., 5., 8.],\n",
       "       [8., 8., 3., 8., 6., 6.]])"
      ]
     },
     "execution_count": 47,
     "metadata": {},
     "output_type": "execute_result"
    }
   ],
   "source": [
    "print(a)\n",
    "print(a.resize((2,6)))\n",
    "a"
   ]
  },
  {
   "cell_type": "code",
   "execution_count": 48,
   "metadata": {},
   "outputs": [
    {
     "data": {
      "text/plain": [
       "array([[5., 0., 3., 5.],\n",
       "       [5., 8., 8., 8.],\n",
       "       [3., 8., 6., 6.]])"
      ]
     },
     "execution_count": 48,
     "metadata": {},
     "output_type": "execute_result"
    }
   ],
   "source": [
    "a.reshape(3,-1)"
   ]
  },
  {
   "cell_type": "code",
   "execution_count": 49,
   "metadata": {},
   "outputs": [
    {
     "name": "stdout",
     "output_type": "stream",
     "text": [
      "[[0. 4.]\n",
      " [7. 6.]]\n",
      "[[7. 5.]\n",
      " [5. 4.]]\n",
      "[[0. 4.]\n",
      " [7. 6.]\n",
      " [7. 5.]\n",
      " [5. 4.]]\n",
      "[[0. 4. 7. 5.]\n",
      " [7. 6. 5. 4.]]\n"
     ]
    }
   ],
   "source": [
    "a = np.floor(10*np.random.random((2,2)))\n",
    "print(a)\n",
    "\n",
    "b = np.floor(10*np.random.random((2,2)))\n",
    "print(b)\n",
    "print(np.vstack((a,b)))\n",
    "print(np.hstack((a,b)))\n"
   ]
  },
  {
   "cell_type": "code",
   "execution_count": 51,
   "metadata": {},
   "outputs": [
    {
     "name": "stdout",
     "output_type": "stream",
     "text": [
      "[[0. 4. 7. 5.]\n",
      " [7. 6. 5. 4.]]\n",
      "[[4. 3.]\n",
      " [2. 8.]]\n",
      "[4. 2. 3. 8.]\n",
      "[[4.]\n",
      " [2.]]\n",
      "[[4. 3.]\n",
      " [2. 8.]]\n",
      "[[4. 3.]\n",
      " [2. 8.]]\n"
     ]
    }
   ],
   "source": [
    "from numpy import newaxis\n",
    "print(np.column_stack((a,b)))     # with 2D arrays\n",
    "a = np.array([4.,2.])\n",
    "b = np.array([3.,8.])\n",
    "print(np.column_stack((a,b)))    # returns a 2D array\n",
    "print(np.hstack((a,b)))           # the result is different\n",
    "print(a[:,newaxis]  )             # this allows to have a 2D columns vector\n",
    "print(np.column_stack((a[:,newaxis],b[:,newaxis])))\n",
    "print(np.hstack((a[:,newaxis],b[:,newaxis])))   # the result is the same"
   ]
  },
  {
   "cell_type": "code",
   "execution_count": 52,
   "metadata": {},
   "outputs": [
    {
     "data": {
      "text/plain": [
       "array([[ 9, 16],\n",
       "       [81, 49]])"
      ]
     },
     "execution_count": 52,
     "metadata": {},
     "output_type": "execute_result"
    }
   ],
   "source": [
    "a = np.arange(12)**2                       # the first 12 square numbers\n",
    "i = np.array( [ 1,1,3,8,5 ] )              # an array of indices\n",
    "a[i]                                       # the elements of a at the positions i\n",
    "\n",
    "\n",
    "j = np.array( [ [ 3, 4], [ 9, 7 ] ] )      # a bidimensional array of indices\n",
    "a[j]                                       # the same shape as j"
   ]
  },
  {
   "cell_type": "code",
   "execution_count": 55,
   "metadata": {},
   "outputs": [
    {
     "name": "stdout",
     "output_type": "stream",
     "text": [
      "[[ 0  1  2  3]\n",
      " [ 4  5  6  7]\n",
      " [ 8  9 10 11]]\n"
     ]
    },
    {
     "data": {
      "text/plain": [
       "array([[ 2,  5],\n",
       "       [ 7, 11]])"
      ]
     },
     "execution_count": 55,
     "metadata": {},
     "output_type": "execute_result"
    }
   ],
   "source": [
    "a = np.arange(12).reshape(3,4)\n",
    "print(a)\n",
    "\n",
    "\n",
    "\n",
    "i = np.array( [ [0,1],                        # indices for the first dim of a\n",
    "                [1,2] ] )\n",
    "j = np.array( [ [2,1],                        # indices for the second dim\n",
    "                [3,3] ] )\n",
    "\n",
    "a[i,j]                                     # i and j must have equal shape\n",
    "\n",
    "\n",
    "\n",
    "#a[i,2]\n",
    "\n",
    "\n",
    "\n",
    "#a[:,j]                                     # i.e., a[ : , j]"
   ]
  },
  {
   "cell_type": "code",
   "execution_count": null,
   "metadata": {},
   "outputs": [],
   "source": []
  }
 ],
 "metadata": {
  "kernelspec": {
   "display_name": "Python 3",
   "language": "python",
   "name": "python3"
  },
  "language_info": {
   "codemirror_mode": {
    "name": "ipython",
    "version": 3
   },
   "file_extension": ".py",
   "mimetype": "text/x-python",
   "name": "python",
   "nbconvert_exporter": "python",
   "pygments_lexer": "ipython3",
   "version": "3.7.1"
  }
 },
 "nbformat": 4,
 "nbformat_minor": 2
}
